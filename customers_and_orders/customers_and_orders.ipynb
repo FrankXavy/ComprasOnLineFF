{
  "cells": [
    {
      "cell_type": "markdown",
      "metadata": {
        "id": "piiX_CRNFYUi"
      },
      "source": [
        "# Technical Challenge ! Custiomers and Orders - The lifeblood of any business!\n",
        "\n",
        "This notebook depends on two data files: customers.scv and orders.csv. These files are hosted in the cloud (or Github), so for simplicity, we are providing you with the code to download and save the two files in a folder called 'sample_data' which lives within this notebook session (not on your local computer nor Google Drive).\n",
        "\n",
        "![sample_data folder in notebook session](https://raw.githubusercontent.com/anyoneai/notebooks/main/customers_and_orders/images/sample_data_folder.png)\n",
        "\n",
        "Please execute the first code snippet before moving to the rest of the exercise as this code will import the data from the files for you to be able to execute the rest of the exercise.\n",
        "\n",
        "Remember as we said in the previous lecture, you have to save this notebook into your Google Drive by going to menu File/Save a Copy In Drive, or clicking in the button \"Copy to Drive\". This way, you will not lose any work you've done and the file will persist with your latest changes in your Google Drive. Also we recommend you to rename your .ipynb in your Google Drive, so you can easily find it in the future."
      ]
    },
    {
      "cell_type": "code",
      "execution_count": 1,
      "metadata": {
        "colab": {
          "base_uri": "https://localhost:8080/"
        },
        "id": "MWpVO242FQHC",
        "outputId": "94f3b021-4e82-41c1-c95e-b62b2af9b0e4"
      },
      "outputs": [
        {
          "output_type": "stream",
          "name": "stdout",
          "text": [
            "Customers and orders CSV files have been added './sample_data'\n"
          ]
        }
      ],
      "source": [
        "import requests\n",
        "\n",
        "def import_data_files():\n",
        "  r = requests.get('https://raw.githubusercontent.com/anyoneai/notebooks/main/customers_and_orders/data/customers.csv')\n",
        "  with open('./sample_data/customers.csv', 'wb') as f:\n",
        "    f.write(r.content)\n",
        "\n",
        "  r = requests.get('https://raw.githubusercontent.com/anyoneai/notebooks/main/customers_and_orders/data/orders.csv')\n",
        "  with open('./sample_data/orders.csv', 'wb') as f:\n",
        "    f.write(r.content)\n",
        "\n",
        "import_data_files()\n",
        "print(\"Customers and orders CSV files have been added './sample_data'\")"
      ]
    },
    {
      "cell_type": "markdown",
      "metadata": {
        "id": "JQAduY-RWKyB"
      },
      "source": [
        "# Exercise 1: Processing Customers data (difficulty medium)\n",
        "\n",
        "The sample customer data in 'customers.csv' file has just 5 columns: CustomerId, First Name, Last Name, City and State\n",
        "\n",
        "![Data sample](https://raw.githubusercontent.com/anyoneai/notebooks/main/customers_and_orders/images/customers.png)\n",
        "\n",
        "We strongly recommend that you complete from the [Prep Course: Intro to Python](https://colab.research.google.com/github/anyoneai/notebooks/blob/main/python3_crash_course.ipynb) the following section:\n",
        "- Section 7: File I/O (to understand how to read CSV file)\n",
        "- Section 6: For Loop (to navigate the contents of the CSV file)\n",
        "- Section 5: Tuples, Lists, and Dictionaries (to manipulate the data of the CSV file)\n",
        "\n",
        "With this, we hope you can complete this exercise successfully. Although if you want to solve this with libraries or any other way, you are welcome to do it your way.\n",
        "\n",
        "*Hint:* We advise you to take a look at the data before you start.\n",
        "**if you want to manually take a look at the data before you start, please see the content of the data [here](https://github.com/anyoneai/notebooks/blob/main/customers_and_orders/data/customers.csv).\n",
        "\n",
        "*Hint*: There are many ways to do this exercise you can do your own, although here's some help. You can solve this exercise reading and parsing CSV files, structuring data into dictionaries, and using for loops to navigate the contents\n",
        "\n",
        "*Hint*: Also, keep in mind that data might not be clean and you might have to figure out how to deal with that data from the code, without having to modify the data source.\n",
        "\n",
        "Below are the 5 questions you'll have to answer to pass the evaluation:"
      ]
    },
    {
      "cell_type": "markdown",
      "metadata": {
        "id": "kJq7S8sBfbOW"
      },
      "source": [
        "**Question 1:** How many customers are in the file?\n",
        "(as help, we have added some comments and starter code to help you structure the solution)"
      ]
    },
    {
      "cell_type": "code",
      "execution_count": 34,
      "metadata": {
        "colab": {
          "base_uri": "https://localhost:8080/"
        },
        "id": "oMnUFBFb2RUb",
        "outputId": "93fcd1b6-dc68-450a-be68-7e5733142abb"
      },
      "outputs": [
        {
          "output_type": "stream",
          "name": "stdout",
          "text": [
            "count: 602\n",
            "Number of customers:  471\n",
            "All done!\n"
          ]
        }
      ],
      "source": [
        "from os.path import exists\n",
        "import csv\n",
        "\n",
        "# check if file can be found and open the file\n",
        "datafile = \"./sample_data/customers.csv\"\n",
        "if not exists(datafile):\n",
        "  raise SystemExit(\"You should run the first code cell and download the dataset files!\")\n",
        "\n",
        "# customers file is in the sample_data folder and can be opened.\n",
        "# Using csv reader is one way of dealing with the file\n",
        "# but it's up to you how you want to proceed\n",
        "data = {}\n",
        "with open(datafile, 'r') as fl:\n",
        "  csvreader = csv.reader(fl, delimiter=',')\n",
        "  headers = next(csvreader)  # Skip the first line because it's headers\n",
        "  # loop through the rows and count etc. THE REST IS UP TO YOU!\n",
        "  count = 0\n",
        "\n",
        "  for row in csvreader:\n",
        "    data[row[0]] = row\n",
        "    count += 1\n",
        "\n",
        "  print(\"count:\", count)\n",
        "  customersNumber = len(data)\n",
        "  print(\"Number of customers: \", customersNumber)\n",
        "\n",
        "print(\"All done!\")"
      ]
    },
    {
      "cell_type": "markdown",
      "metadata": {
        "id": "uffBnNgz_570"
      },
      "source": [
        "**Question 2:** In how many different states do the customers live in?"
      ]
    },
    {
      "cell_type": "code",
      "execution_count": 37,
      "metadata": {
        "id": "Bi_yid0sMe3-",
        "colab": {
          "base_uri": "https://localhost:8080/"
        },
        "outputId": "347d9bc4-0858-4e8c-bbf1-762e68d7a2b5"
      },
      "outputs": [
        {
          "output_type": "stream",
          "name": "stdout",
          "text": [
            "count: 602\n",
            "Number of different states:  14\n",
            "All done!\n"
          ]
        }
      ],
      "source": [
        "# open file and init vars\n",
        "# evaluate the contents of the file\n",
        "from os.path import exists\n",
        "import csv\n",
        "\n",
        "# check if file can be found and open the file\n",
        "datafile = \"./sample_data/customers.csv\"\n",
        "if not exists(datafile):\n",
        "  raise SystemExit(\"You should run the first code cell and download the dataset files!\")\n",
        "\n",
        "# customers file is in the sample_data folder and can be opened.\n",
        "# Using csv reader is one way of dealing with the file\n",
        "# but it's up to you how you want to proceed\n",
        "with open(datafile, 'r') as fl:\n",
        "  csvreader = csv.reader(fl, delimiter=',')\n",
        "  headers = next(csvreader)  # Skip the first line because it's headers\n",
        "  # loop through the rows and count etc. THE REST IS UP TO YOU!\n",
        "  count = 0\n",
        "  data = {}\n",
        "\n",
        "  for row in csvreader:\n",
        "    data[row[4].strip().upper()] = row\n",
        "    count += 1\n",
        "\n",
        "  print(\"count:\", count)\n",
        "  customersNumber = len(data)\n",
        "  print(\"Number of different states: \", customersNumber)\n",
        "\n",
        "print(\"All done!\")"
      ]
    },
    {
      "cell_type": "markdown",
      "metadata": {
        "id": "DC59SZYiMfNY"
      },
      "source": [
        "**Question 3** What is the state with most customers?"
      ]
    },
    {
      "cell_type": "code",
      "execution_count": 38,
      "metadata": {
        "id": "tfGU3w-OMhA9",
        "colab": {
          "base_uri": "https://localhost:8080/"
        },
        "outputId": "e3b7cbc3-e42e-4531-a7c8-49f78e407ec6"
      },
      "outputs": [
        {
          "output_type": "stream",
          "name": "stdout",
          "text": [
            "Count states: Counter({'CA': 448, 'NV': 6, 'AZ': 4, 'CO': 3, 'NM': 2, 'FL': 2, 'ID': 1, 'UT': 1, 'OR': 1, 'MA': 1, 'IN': 1, 'TX': 1})\n",
            "State with most customers is CA with 448.\n",
            "All done!\n"
          ]
        }
      ],
      "source": [
        "# open file and init vars\n",
        "# evaluate the contents of the file\n",
        "from collections import Counter\n",
        "from os.path import exists\n",
        "import csv\n",
        "\n",
        "# check if file can be found and open the file\n",
        "datafile = \"./sample_data/customers.csv\"\n",
        "if not exists(datafile):\n",
        "  raise SystemExit(\"You should run the first code cell and download the dataset files!\")\n",
        "\n",
        "# customers file is in the sample_data folder and can be opened.\n",
        "# Using csv reader is one way of dealing with the file\n",
        "# but it's up to you how you want to proceed\n",
        "state_counts = Counter()\n",
        "data = {}\n",
        "count = 0\n",
        "with open(datafile, 'r') as fl:\n",
        "  csvreader = csv.reader(fl, delimiter=',')\n",
        "  headers = next(csvreader)  # Skip the first line because it's headers\n",
        "  # loop through the rows and count etc. THE REST IS UP TO YOU!\n",
        "\n",
        "  for row in csvreader:\n",
        "    data[row[0].strip()] = row[4].strip().upper() #row[0] is the key (customerId) and must not be repeated, row[4] is the state\n",
        "    count += 1\n",
        "\n",
        "state_counts = Counter(data.values())\n",
        "\n",
        "most_common_state = state_counts.most_common(1)[0]\n",
        "\n",
        "print(\"Count states:\", state_counts)\n",
        "print(f\"State with most customers is {most_common_state[0]} with {most_common_state[1]}.\")\n",
        "\n",
        "print(\"All done!\")"
      ]
    },
    {
      "cell_type": "markdown",
      "metadata": {
        "id": "7mcM6cUAMhLB"
      },
      "source": [
        "**Question 4** What is the state with the least customers?"
      ]
    },
    {
      "cell_type": "code",
      "execution_count": 40,
      "metadata": {
        "id": "8T0Ka2RqMi3P",
        "colab": {
          "base_uri": "https://localhost:8080/"
        },
        "outputId": "c1e41267-9c65-484f-e309-2035b3b05421"
      },
      "outputs": [
        {
          "output_type": "stream",
          "name": "stdout",
          "text": [
            "Count states: Counter({'CA': 569, 'NV': 8, 'AZ': 6, 'FL': 3, 'CO': 3, 'NM': 3, 'TX': 2, 'UT': 2, 'WA': 1, 'NH': 1, 'ID': 1, 'OR': 1, 'MA': 1, 'IN': 1})\n",
            "State with the least customers is ('IN', 1) with 1.\n",
            "All done!\n"
          ]
        }
      ],
      "source": [
        "# open file and init vars\n",
        "# evaluate the contents of the file\n",
        "from collections import Counter\n",
        "from os.path import exists\n",
        "import csv\n",
        "\n",
        "# check if file can be found and open the file\n",
        "datafile = \"./sample_data/customers.csv\"\n",
        "if not exists(datafile):\n",
        "  raise SystemExit(\"You should run the first code cell and download the dataset files!\")\n",
        "\n",
        "# customers file is in the sample_data folder and can be opened.\n",
        "# Using csv reader is one way of dealing with the file\n",
        "# but it's up to you how you want to proceed\n",
        "state_counts = Counter()\n",
        "data = {}\n",
        "count = 0\n",
        "with open(datafile, 'r') as fl:\n",
        "  csvreader = csv.reader(fl, delimiter=',')\n",
        "  headers = next(csvreader)  # Skip the first line because it's headers\n",
        "  # loop through the rows and count etc. THE REST IS UP TO YOU!\n",
        "\n",
        "  for row in csvreader:\n",
        "    data[count] = row[4].strip().upper() #row[0] is the key (customerId) and must not be repeated, row[4] is the state\n",
        "    count += 1\n",
        "\n",
        "state_counts = Counter(data.values())\n",
        "\n",
        "most_common_state = state_counts.most_common()[-1] #last item in most_common_state so is the less common\n",
        "\n",
        "print(\"Count states:\", state_counts)\n",
        "print(f\"State with the least customers is {most_common_state} with {most_common_state[1]}.\")\n",
        "\n",
        "print(\"All done!\")"
      ]
    },
    {
      "cell_type": "markdown",
      "metadata": {
        "id": "h6fIy7hXHF6A"
      },
      "source": [
        "**Question 5:** What is the most common last name?"
      ]
    },
    {
      "cell_type": "code",
      "execution_count": 41,
      "metadata": {
        "id": "k8M1DmA75Km7",
        "colab": {
          "base_uri": "https://localhost:8080/"
        },
        "outputId": "11ecf5c4-b755-4570-c094-ab11e527baba"
      },
      "outputs": [
        {
          "output_type": "stream",
          "name": "stdout",
          "text": [
            "Count states: Counter({'SMITH': 8, 'GOMEZ': 5, 'ZAMBRANA': 5, 'DOGGETT': 5, 'HUYNH': 4, 'ROCHA': 4, 'REYES': 4, 'MCMAHON': 4, 'GARCIA': 4, 'GONZALEZ': 4, 'JOHNSON': 4, 'PEREZ': 4, 'SOTO': 4, 'MUMFORD': 4, 'GUERRA': 4, 'MONTELLANO LUNA': 4, 'GILARTELLI': 3, 'WOLLMAN': 3, 'MARIN': 3, 'MCMURRAY': 3, 'ZHANG': 3, 'HARRIS': 3, 'HALVERSON': 3, 'JANNETTE': 3, 'JACKSON': 3, 'GUZMAN': 3, 'CHANG': 3, 'HADLEY': 3, 'MCDERMOTT': 3, 'MILLER': 3, 'CANIZALES': 3, 'RODRIGUEZ': 3, 'ORTEGA': 3, 'PREVICH': 3, 'RUIZ': 3, 'TAKARADA': 3, 'RAMIREZ': 3, 'LABONTE': 3, 'BRADY': 3, 'ORTIZ': 3, 'ABRAHAM': 2, 'JAUREGUI': 2, 'MOTA-SANCHEZ': 2, 'MCCARLEY': 2, 'GANTOUS': 2, 'TUELL': 2, 'QUIJADA': 2, 'STINSON': 2, 'MEGERDICHIAN': 2, 'MUSLEH': 2, 'SLOAN': 2, 'CHO': 2, 'THOMPSON': 2, 'SCATES JOHNSON': 2, 'MARTINEZ': 2, 'MONTES': 2, 'COFFEY': 2, 'BANIK': 2, 'ROBERTSON': 2, 'AMBULO': 2, 'SHRESTHA': 2, 'COURTIS': 2, 'IRWIN': 2, 'TAVARES': 2, 'GONZALES': 2, 'FREEMAN': 2, 'MERCADO': 2, 'SPIZER': 2, 'COOMB': 2, 'MACIAS': 2, 'YOUNT': 2, 'LANZI': 2, 'WILLIAMS': 2, 'ZAM': 2, 'MUNOZ': 2, 'TYCHOLIS': 2, 'ARROYO': 2, 'TREVARE': 2, 'NURE': 2, 'GALINDO': 2, 'WELTSCH': 2, 'HISAOKA': 2, 'JONES': 2, 'WILDEY': 2, 'TAFOLLA': 2, 'PULIDO': 2, 'VEGA': 2, 'SOLIZ': 2, 'LOPEZ': 2, 'FRANCO': 2, 'MORTELLARO': 2, 'REYNA': 2, 'QUINTANA': 2, 'DIAZ': 2, 'GARMON': 2, 'OH': 2, 'TABAK': 2, 'FINAN': 2, 'SILVA': 2, 'RESNICK': 2, 'SCOTT': 2, 'BEGLEY': 2, 'MINNICK': 2, 'MUNANA': 2, 'SAGGESE': 2, 'ALLEN': 2, 'SIMPSON': 2, 'ALVARADO': 2, 'ZIMBER': 2, 'QURESHI': 2, 'MATSUMOTO': 2, 'ISHIMARU': 2, 'CASTRINOS': 2, 'AUGUSTINE': 2, 'ESTRADA': 2, 'MARTSOLF': 2, 'PIEDRAHITA': 1, 'MCCRORIE': 1, 'RAVELO': 1, 'KLINK': 1, 'TAN': 1, 'PERSKY': 1, 'COSIO': 1, 'SOMOSOT': 1, 'PARK': 1, 'LIGHTFOOT': 1, 'KIRSCHNER': 1, 'GALVAN': 1, 'ZAPATA': 1, 'ROELANTS': 1, 'VOJNAR': 1, 'HAROLD': 1, 'MORRIS': 1, 'CAMPOS': 1, 'TZARAX': 1, 'COHN': 1, 'SULLIVAN': 1, 'CARREON': 1, 'MOPSIKOFF': 1, 'TUDELA': 1, 'KIM': 1, 'VALEN': 1, 'HATHEWAY': 1, 'NEWHOUSE': 1, 'PADILLA': 1, 'SPILLMAN': 1, 'HILLARD': 1, 'BROVKO': 1, 'HODGSON': 1, 'WELSH': 1, 'OJEDA': 1, 'HESTER': 1, 'GRESSITT': 1, 'WARREN': 1, 'HERNANDEZ': 1, 'DAVIDSON-DILLON': 1, 'WICKER': 1, 'KULKA': 1, 'UDOMA': 1, 'YI': 1, 'DEMOTTE': 1, 'PILLARELLA': 1, 'CHIN': 1, 'SCHNEIDER': 1, 'FERGUSON': 1, 'VILLELA': 1, 'SHAO': 1, 'PANTE': 1, 'HIGHSHOE': 1, 'MOLINA': 1, 'OZEKICI': 1, 'ESPINOZA': 1, 'AZIZI': 1, 'CHOI': 1, 'RIOS': 1, 'VONG': 1, 'ASCOLESE': 1, 'SCHAFFNER': 1, 'PICON': 1, 'HAMILTON': 1, 'MUKORA': 1, 'KHACHADOORIAN': 1, 'PIMENTEL': 1, 'ARGUELLES': 1, 'KRESSH': 1, 'HALL': 1, 'GUNTHER': 1, 'HEREDIA': 1, 'HUARD': 1, 'KEY': 1, 'MAKNOUNI': 1, 'DRAGT': 1, 'SEVILLE-DOUGLAS': 1, 'CISNEROS': 1, 'RIVERA MARMOL': 1, 'OLSON': 1, 'DIVAS': 1, 'LEE': 1, 'DE GUIA': 1, 'RANDALL': 1, 'HARBOR': 1, 'STANDING': 1, 'SANDERFORD': 1, 'ORONA': 1, 'RODRIGUEZ LEMOS': 1, 'HENDRIX': 1, 'ZAMORA': 1, 'RAY': 1, 'YAN': 1, 'MCLEAN': 1, 'SANCHEZ': 1, 'ROJAS': 1, 'SAINBAATAR': 1, 'DEPLAND': 1, 'OROZCO': 1, 'NIMAGA': 1, 'FABBRO': 1, 'ATKISSON': 1, 'VRBKA': 1, 'KOVELMAN': 1, 'PUNO': 1, 'BAGALE': 1, 'SARRAUTE': 1, 'TREJO': 1, 'HARRISON': 1, 'PARKINSON': 1, 'HOONG': 1, 'GAYTAN': 1, 'LONDIOL': 1, 'VARGAS': 1, 'MAYE': 1, 'BRES': 1, 'BRUMMER': 1, 'MATHEWSON': 1, 'MYHRE': 1, 'VELIS': 1, 'GECHTMAN': 1, 'MATHER': 1, 'EDISON': 1, 'GATZA': 1, 'GIFFIN': 1, 'LOZANO': 1, 'MENDES': 1, 'TREVINO': 1, 'NICHOLLS': 1, 'RILEY': 1, 'MCNELLIS': 1, 'MUELLER': 1, 'CARVALHO': 1, 'STEVENSON': 1, 'HORDYK': 1, 'KEMBLE': 1, 'MOSOMBITE': 1, 'AZIMI': 1, 'JUAREZ': 1, 'WRIGHT': 1, 'HARBISON-MICHEL': 1, 'DRAME': 1, 'GYERMAN': 1, 'GEORGE': 1, 'MONTALVO': 1, 'SANDS': 1, 'GIGLIOTTI': 1, 'BERNABE': 1, 'ROCKWELL': 1, 'MONTGOMERY': 1, 'HTWE': 1, 'ZILLIOX': 1, 'CIOTTI PARTON': 1, 'SAMPSON': 1, 'CERVANTES': 1, 'SHALLER': 1, 'DIAZGOMEZ': 1, 'NAZARETYAN': 1, 'DOMINGUEZ': 1, 'OQUINN': 1, 'TINDAN': 1, 'GARABET': 1, 'OSORIO': 1, 'GAMINO': 1, 'WESTFALL': 1, 'QUINTERO': 1, 'HSU': 1, 'RINGGOLD': 1, 'HANLEY': 1, 'SAMILIN': 1, 'ABRAMS': 1, 'VITAL': 1, 'COFFIN': 1, 'WOMACK': 1, 'VORACHARD': 1, 'ABUEL': 1, 'XU': 1, 'NEWSOME': 1, 'BELLOSO': 1, 'HASLACKER': 1, 'SIERRA': 1, 'ANGELO': 1, 'ABRISHAMCHIAN': 1, 'SHAUGHNESSY': 1, 'XIAO': 1, 'BARRETTO': 1, 'VAN DAM': 1, 'SHIELDS': 1, 'MEDINA': 1, 'NAVARRO': 1, 'CRUZ-BONDE': 1, 'BERINA': 1, 'VANDYKE': 1, 'BURNS': 1, 'BRISENO': 1, 'LAY': 1, 'MACHTOLFF': 1, 'RESENDEZ': 1, 'HANDY': 1, 'COROSU': 1, 'WEISMAN': 1, 'PLUNIER': 1, 'FELIX': 1, 'HAGHIRI': 1, 'POWELL': 1, 'REDBURN': 1, 'ROTH STRONG': 1, 'NOORSHER': 1, 'EMELIANOV': 1, 'SABO': 1, 'KOYABU': 1, 'KARTOUNIAN': 1, 'HUNTER': 1, 'SUTTON': 1, 'AMATO MAYES': 1, 'HERRON': 1, 'SANDOVAL': 1, 'LUU': 1, 'YOUNG': 1, 'KARTALIAN': 1, 'CHURCH': 1, 'MARKEL': 1, 'HYATT': 1, 'TORRES': 1, 'STRASER': 1, 'PAPPENSCHELLER': 1, 'MARQUEZ': 1, 'GHOLSTON': 1, 'FERRARO': 1, 'CASEY': 1, 'MADLAMBAYAN': 1, 'KNIBB': 1, 'DUNNE': 1, 'MORALES': 1, 'VALENZUELA': 1, 'OCHIAI': 1, 'BARAJAS': 1, 'HORAN': 1, 'HAN': 1, 'PELLETIER': 1, 'AGHAKHANI': 1, 'SARTORIO': 1, 'LOOSE': 1, 'UZUN': 1, 'GOLDFARB': 1, 'JONKE': 1, 'ANDERSON': 1, 'HONG': 1, 'BUDA': 1, 'JOHN': 1, 'WOLIN': 1, 'NAJAD': 1, 'YATES': 1, 'RIVERA': 1, 'ARIAS': 1, 'OCONNOR': 1, 'VALADEZ': 1, 'MARSHALL': 1, 'PACIENTE': 1, 'WOODWARD': 1, 'WEMBES': 1, 'VAZQUEZ': 1, 'CARRIER': 1, 'STELYN': 1, 'GABBAYAN': 1, 'LAINFIESTA': 1, 'MCMAINS': 1, 'JIA': 1, 'LEON': 1, 'SEOK': 1, 'ROBERTS': 1, 'LEMAISTRE': 1, 'KENNEDY': 1, 'CONNELL': 1, 'BALCARCEL': 1, 'GREESON': 1, 'PUGLISI': 1, 'YOUSSEF': 1, 'RUDI': 1, 'SPENCER': 1, 'CORCORAN': 1, 'YAMADA': 1, 'KIRILENKO': 1, 'MUGGY': 1, 'VALDEZ': 1, 'MERLE': 1, 'BOUCHAT': 1, 'JIMENEZ': 1, 'HAYDEN': 1, 'SCHOENFELD': 1, 'HERRERA': 1, 'CASTILLO': 1, 'FILLMORE': 1, 'SCHORR': 1, 'VERDUZCO': 1, 'ZAMUDIO': 1, 'BABBITT': 1, 'MUNIZ': 1, 'STEPHENS': 1, 'BOROUGH': 1, 'FERRER': 1, 'CRUZ': 1, 'MONTECLARO': 1, 'HALL REIF': 1, 'MIALOTO JR.': 1, 'HUGHES': 1, 'OKONMA': 1})\n",
            "The most common last name is ('SMITH', 8) with 8.\n",
            "All done!\n"
          ]
        }
      ],
      "source": [
        "# open file and init vars\n",
        "# evaluate the contents of the file\n",
        "from collections import Counter\n",
        "from os.path import exists\n",
        "import csv\n",
        "\n",
        "# check if file can be found and open the file\n",
        "datafile = \"./sample_data/customers.csv\"\n",
        "if not exists(datafile):\n",
        "  raise SystemExit(\"You should run the first code cell and download the dataset files!\")\n",
        "\n",
        "# customers file is in the sample_data folder and can be opened.\n",
        "# Using csv reader is one way of dealing with the file\n",
        "# but it's up to you how you want to proceed\n",
        "state_counts = Counter()\n",
        "data = {}\n",
        "count = 0\n",
        "with open(datafile, 'r') as fl:\n",
        "  csvreader = csv.reader(fl, delimiter=',')\n",
        "  headers = next(csvreader)  # Skip the first line because it's headers\n",
        "  # loop through the rows and count etc. THE REST IS UP TO YOU!\n",
        "\n",
        "  for row in csvreader:\n",
        "    data[count] = row[2].strip().upper() #row[0] is the key (customerId) and must not be repeated, row[2] is the lastname\n",
        "    count += 1\n",
        "\n",
        "state_counts = Counter(data.values())\n",
        "\n",
        "most_common_state = state_counts.most_common(1)[0]\n",
        "\n",
        "print(\"Count states:\", state_counts)\n",
        "print(f\"The most common last name is {most_common_state} with {most_common_state[1]}.\")\n",
        "\n",
        "print(\"All done!\")"
      ]
    },
    {
      "cell_type": "markdown",
      "metadata": {
        "id": "YPRma1t9NoFk"
      },
      "source": [
        "# Exercise 2: Processing Orders data (difficulty high)\n",
        "\n",
        "The second sample files contains orders placed by customers from the first file. Be careful, this file has many rows and you most likely should not print the contents of the whole file.\n",
        "\n",
        "The file contains the following columns: CustomerID, OrderID, Date, OrderTotal, ProductName, Price\n",
        "\n",
        "![Data sample](https://raw.githubusercontent.com/anyoneai/notebooks/main/customers_and_orders/images/orders.png)\n",
        "\n",
        "*Hint:* We advise you to take a look at the data before you start.\n",
        "**if you want to manually take a look at the data before you start, please see the content of the data [here](https://raw.githubusercontent.com/anyoneai/notebooks/main/customers_and_orders/data/orders.csv).\n",
        "\n",
        "*Hint*: There are many ways to do this exercise you can do your own, although here's some help. You can solve this exercise reading and parsing CSV files, structuring data into dictionaries, and using for loops to navigate the contents\n",
        "\n",
        "*Hint*: Also, the data is not clean and you will have to figure out how to deal with that data from the code, without having to modify the data source.\n",
        "\n",
        "\n",
        "\n",
        "**Question #1:** How many unique orders are in the orders.csv file?\n",
        "\n",
        "**Question #2:** What is the average number of items per order (rounded to two decimal places)?\n",
        "\n",
        "**Question #3:** What is the highest number of items per order?\n",
        "\n",
        "**Question #4:** What is the number of orders placed in October 2021?\n",
        "\n",
        "**Question #5:** Which customer spent the most amount of money in 2021?\n",
        "\n",
        "**Question #6:** Historically, what is the best month for sales?\n",
        "\n",
        "Once you get your answers, remember to go back to the course and introduce them in the multiple choice quiz"
      ]
    },
    {
      "cell_type": "code",
      "execution_count": 47,
      "metadata": {
        "id": "8ipJTrfs5QVM",
        "colab": {
          "base_uri": "https://localhost:8080/"
        },
        "outputId": "6943c4b6-7cde-49ba-ca41-61f70688895f"
      },
      "outputs": [
        {
          "output_type": "stream",
          "name": "stdout",
          "text": [
            "Question #1: How many unique orders are in the orders.csv file?: 15675\n",
            "Question #2: What is the average number of items per order (rounded to two decimal places)?: 1.73\n",
            "Question #3: What is the highest number of items per order?: 35\n",
            "Question #4: What is the number of orders placed in October 2021?: 267\n",
            "Question #5: Which customer spent the most amount of money in 2021?: 5464 con $56170.00\n",
            "Question #6: Historically, what is the best month for sales?: 2022-01 con $172032.00\n",
            "All done!\n"
          ]
        }
      ],
      "source": [
        "# open and evaluate orders.csv\n",
        "# open file and init vars\n",
        "# evaluate the contents of the file\n",
        "from collections import Counter, defaultdict\n",
        "from datetime import datetime\n",
        "from os.path import exists\n",
        "import csv\n",
        "\n",
        "# check if file can be found and open the file\n",
        "datafile = \"./sample_data/orders.csv\"\n",
        "if not exists(datafile):\n",
        "  raise SystemExit(\"You should run the first code cell and download the dataset files!\")\n",
        "\n",
        "# customers file is in the sample_data folder and can be opened.\n",
        "# Using csv reader is one way of dealing with the file\n",
        "# but it's up to you how you want to proceed\n",
        "orders = []\n",
        "with open(datafile, 'r') as fl:\n",
        "  csvreader = csv.reader(fl, delimiter=',')\n",
        "  headers = next(csvreader)  # Skip the first line because it's headers\n",
        "  # loop through the rows and count etc. THE REST IS UP TO YOU!\n",
        "\n",
        "  for row in csvreader:\n",
        "    try:\n",
        "      # Limpieza y validación de datos\n",
        "      customer_id = row[0].strip()\n",
        "      order_id = row[1].strip()\n",
        "      date = datetime.strptime(row[2].strip(), \"%Y-%m-%d %H:%M:%S.%f\") if row[2].strip() else None\n",
        "      order_total = float(row[3]) if row[3].strip() else 0.0\n",
        "      product_name = row[4].strip().lower()\n",
        "      price = float(row[5]) if row[5].strip() else 0.0\n",
        "      # Agregar el pedido solo si la fecha es válida\n",
        "      if date:\n",
        "        orders.append({\n",
        "          \"CustomerID\": customer_id,\n",
        "          \"OrderID\": order_id,\n",
        "          \"Date\": date,\n",
        "          \"OrderTotal\": order_total,\n",
        "          \"ProductName\": product_name,\n",
        "          \"Price\": price,\n",
        "        })\n",
        "    except ValueError as e:\n",
        "      print(f\"Error processing row {row}: {e}\")\n",
        "\n",
        "\n",
        "# Question 1:\n",
        "unique_orders = set(order[\"OrderID\"] for order in orders)\n",
        "num_unique_orders = len(unique_orders)\n",
        "\n",
        "# Question 2:\n",
        "items_per_order = Counter(order[\"OrderID\"] for order in orders)\n",
        "average_items_per_order = round(sum(items_per_order.values()) / len(items_per_order), 2)\n",
        "\n",
        "# Question 3:\n",
        "max_items_per_order = max(items_per_order.values())\n",
        "\n",
        "# Question 4:\n",
        "october_2021_orders = [\n",
        "    order for order in orders if order[\"Date\"].year == 2021 and order[\"Date\"].month == 10\n",
        "]\n",
        "num_october_2021_orders = len(set(order[\"OrderID\"] for order in october_2021_orders))\n",
        "\n",
        "# Question 5:\n",
        "customer_spending = defaultdict(float)\n",
        "for order in orders:\n",
        "    if order[\"Date\"].year == 2021:\n",
        "        customer_spending[order[\"CustomerID\"]] += order[\"OrderTotal\"]\n",
        "\n",
        "top_customer = max(customer_spending.items(), key=lambda x: x[1])\n",
        "\n",
        "# Question 6:\n",
        "monthly_sales = defaultdict(float)\n",
        "for order in orders:\n",
        "    month = order[\"Date\"].strftime(\"%Y-%m\")\n",
        "    monthly_sales[month] += order[\"OrderTotal\"]\n",
        "\n",
        "best_month = max(monthly_sales.items(), key=lambda x: x[1])\n",
        "\n",
        "# Results\n",
        "print(f\"Question #1: How many unique orders are in the orders.csv file?: {num_unique_orders}\")\n",
        "print(f\"Question #2: What is the average number of items per order (rounded to two decimal places)?: {average_items_per_order}\")\n",
        "print(f\"Question #3: What is the highest number of items per order?: {max_items_per_order}\")\n",
        "print(f\"Question #4: What is the number of orders placed in October 2021?: {num_october_2021_orders}\")\n",
        "print(f\"Question #5: Which customer spent the most amount of money in 2021?: {top_customer[0]} with ${top_customer[1]:.2f}\")\n",
        "print(f\"Question #6: Historically, what is the best month for sales?: {best_month[0]} with ${best_month[1]:.2f}\")\n",
        "\n",
        "print(\"All done!\")"
      ]
    },
    {
      "cell_type": "markdown",
      "metadata": {
        "id": "ie0JW4FAk6Os"
      },
      "source": [
        "# Finished!\n",
        "\n",
        "Hope this was not too difficult and slicing and dicing the datasets was some fun. Now head on back to the course and provide the answers to the questions from this exercise."
      ]
    }
  ],
  "metadata": {
    "colab": {
      "name": "customers_and_orders.ipynb",
      "provenance": []
    },
    "kernelspec": {
      "display_name": "Python 3 (ipykernel)",
      "language": "python",
      "name": "python3"
    },
    "language_info": {
      "codemirror_mode": {
        "name": "ipython",
        "version": 3
      },
      "file_extension": ".py",
      "mimetype": "text/x-python",
      "name": "python",
      "nbconvert_exporter": "python",
      "pygments_lexer": "ipython3",
      "version": "3.9.9"
    }
  },
  "nbformat": 4,
  "nbformat_minor": 0
}